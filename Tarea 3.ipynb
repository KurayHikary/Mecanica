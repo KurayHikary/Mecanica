{
 "cells": [
  {
   "cell_type": "markdown",
   "metadata": {},
   "source": [
    "# Ejercicio 6.29 Yoyo\n"
   ]
  },
  {
   "cell_type": "code",
   "execution_count": 1,
   "metadata": {},
   "outputs": [
    {
     "name": "stdout",
     "output_type": "stream",
     "text": [
      "Si m=0.005 kg, b=0.05 m, R=0.1 m la tension es igual a: \n",
      "0.098\n",
      "Si m=0.010 kg, b=0.05 m, R=0.1 m la tension es igual a: \n",
      "0.196\n",
      "Si m=0.005 kg, b=0.08 m, R=0.3 m la tension es igual a: \n",
      "0.114\n",
      "Si m=0.005 kg, b=0.05 m, R=0.1 m, h=0.5 m la Fuerza en newton es igual a: \n",
      "0.20796197266785504\n",
      "Si m=0.010 kg, b=0.05 m, R=0.1 m, h=0.5 m la Fuerza en newton es igual a: \n",
      "0.4159239453357101\n",
      "Si m=0.005 kg, b=0.08 m, R=0.3 m, h=0.6 m la Fuerza en newton es igual a: \n",
      "0.11652343993840904\n"
     ]
    }
   ],
   "source": [
    "def mov_yoyo(m,b,R):\n",
    "    w=m*9.8\n",
    "    c=(2*(b**2))/(R**2)\n",
    "    T=round(w/(1-c),3)\n",
    "    return T\n",
    "print (\"Si m=0.005 kg, b=0.05 m, R=0.1 m la tension es igual a: \")\n",
    "print (mov_yoyo(0.005,0.05,0.1))\n",
    "print (\"Si m=0.010 kg, b=0.05 m, R=0.1 m la tension es igual a: \")\n",
    "print (mov_yoyo(0.010,0.05,0.1))\n",
    "print (\"Si m=0.005 kg, b=0.08 m, R=0.3 m la tension es igual a: \")\n",
    "print (mov_yoyo(0.010,0.08,0.3))\n",
    "\n",
    "def fuerza_yoyo(m,b,R,h):\n",
    "    U=2*m*9.8*h\n",
    "    dm=3.1416*b*(0.5+(0.25*((R**2)/(b**2))))\n",
    "    F=U/dm\n",
    "    return F\n",
    "print (\"Si m=0.005 kg, b=0.05 m, R=0.1 m, h=0.5 m la Fuerza en newton es igual a: \")\n",
    "print (fuerza_yoyo(0.005,0.05,0.1, 0.5))\n",
    "print (\"Si m=0.010 kg, b=0.05 m, R=0.1 m, h=0.5 m la Fuerza en newton es igual a: \")\n",
    "print (fuerza_yoyo(0.010,0.05,0.1,0.5))\n",
    "print (\"Si m=0.005 kg, b=0.08 m, R=0.3 m, h=0.6 m la Fuerza en newton es igual a: \")\n",
    "print (fuerza_yoyo(0.010,0.08,0.3,0.6))\n",
    "    "
   ]
  },
  {
   "cell_type": "markdown",
   "metadata": {},
   "source": [
    "Observamos que la tensión es directamente proporcional al peso del yoyo e indirectamente proporcional a los radios. Es decir, que el movimiento sin considerar la dirección depende netamente de las condiciones físicas del juguete y no de la velocidad que este alcanza. Por otr lado con respecto a la fuerza se observa que esta es indimendiente al tipo de movimiento del yoyo.   "
   ]
  },
  {
   "cell_type": "markdown",
   "metadata": {},
   "source": [
    "# Ejercicio 6.3.2 Ruedas de goma"
   ]
  },
  {
   "cell_type": "code",
   "execution_count": 11,
   "metadata": {},
   "outputs": [
    {
     "name": "stdout",
     "output_type": "stream",
     "text": [
      "La velocidad angular final de la primera rueda es: 0.28571428571428575"
     ]
    }
   ],
   "source": [
    "\n",
    "def vf_rueda1 (M,m,w_0):\n",
    "    mt=M+m\n",
    "    wf=(M/mt)*w_0\n",
    "    return wf\n",
    "print(\"La velocidad angular final de la primera rueda es: \", end=f\"{vf_rueda1(0.5,0.2,0.4)}\")\n"
   ]
  },
  {
   "cell_type": "markdown",
   "metadata": {},
   "source": [
    "Se observa que la velocidad angular de la primera rueda depende del contacto entre estas y no de la fuerza que se produce.   "
   ]
  },
  {
   "cell_type": "markdown",
   "metadata": {},
   "source": [
    "## Ejercicio 6.36 Masas"
   ]
  },
  {
   "cell_type": "code",
   "execution_count": 17,
   "metadata": {},
   "outputs": [
    {
     "name": "stdout",
     "output_type": "stream",
     "text": [
      "La tension esperdada en newtons es: 18.0"
     ]
    }
   ],
   "source": [
    "def tension(m_A,m_B,v,l):\n",
    "    p1=((m_B/(m_A+m_B))*v)**2\n",
    "    p2=((m_A+m_B)/(m_B*l))\n",
    "    T=m_A*p1*p2\n",
    "    return T\n",
    "print(\"La tension esperdada en newtons es: \", end=f\"{tension (2,2,3,0.5)}\")\n"
   ]
  }
 ],
 "metadata": {
  "kernelspec": {
   "display_name": "Python 3",
   "language": "python",
   "name": "python3"
  },
  "language_info": {
   "codemirror_mode": {
    "name": "ipython",
    "version": 3
   },
   "file_extension": ".py",
   "mimetype": "text/x-python",
   "name": "python",
   "nbconvert_exporter": "python",
   "pygments_lexer": "ipython3",
   "version": "3.7.4"
  }
 },
 "nbformat": 4,
 "nbformat_minor": 2
}
